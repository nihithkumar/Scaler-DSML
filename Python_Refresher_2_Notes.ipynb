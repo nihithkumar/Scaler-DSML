{
  "nbformat": 4,
  "nbformat_minor": 0,
  "metadata": {
    "colab": {
      "provenance": [],
      "include_colab_link": true
    },
    "kernelspec": {
      "name": "python3",
      "display_name": "Python 3"
    },
    "language_info": {
      "name": "python"
    }
  },
  "cells": [
    {
      "cell_type": "markdown",
      "metadata": {
        "id": "view-in-github",
        "colab_type": "text"
      },
      "source": [
        "<a href=\"https://colab.research.google.com/github/nihithkumar/Scaler-DSML/blob/main/Python_Refresher_2_Notes.ipynb\" target=\"_parent\"><img src=\"https://colab.research.google.com/assets/colab-badge.svg\" alt=\"Open In Colab\"/></a>"
      ]
    },
    {
      "cell_type": "markdown",
      "source": [
        "# Python Refresher: 2"
      ],
      "metadata": {
        "id": "iZerLBkeMqnJ"
      }
    },
    {
      "cell_type": "markdown",
      "source": [
        "# Data Structures in Python\n",
        "- List\n",
        "- Tuples\n",
        "- Sets\n",
        "- Dictionaries"
      ],
      "metadata": {
        "id": "8RSoPiLIlyFK"
      }
    },
    {
      "cell_type": "markdown",
      "source": [
        "## List:\n",
        "- It's a hetrogenous collection of objects\n",
        "```python\n",
        "a = [\"bipin\", 23, 45.8, True, \"Python\"]\n",
        "```\n",
        "- One can access the object using it's index. Start index is `0` and last index is `size of list - 1`"
      ],
      "metadata": {
        "id": "Nb2N_R3Ll77o"
      }
    },
    {
      "cell_type": "code",
      "source": [
        "a = [\"bipin\", 23, 45.8, True, \"Python\"]\n",
        "a"
      ],
      "metadata": {
        "colab": {
          "base_uri": "https://localhost:8080/"
        },
        "id": "IT3XSyGHlSqd",
        "outputId": "72cc33a0-ced2-43c6-e8f8-2a8ccde6ee57"
      },
      "execution_count": null,
      "outputs": [
        {
          "output_type": "execute_result",
          "data": {
            "text/plain": [
              "['bipin', 23, 45.8, True, 'Python']"
            ]
          },
          "metadata": {},
          "execution_count": 1
        }
      ]
    },
    {
      "cell_type": "code",
      "source": [
        "a[2]"
      ],
      "metadata": {
        "colab": {
          "base_uri": "https://localhost:8080/"
        },
        "id": "CuiIbuxfmMlA",
        "outputId": "5a5fd779-95eb-4ec9-9cd9-6d1902c1a673"
      },
      "execution_count": null,
      "outputs": [
        {
          "output_type": "execute_result",
          "data": {
            "text/plain": [
              "45.8"
            ]
          },
          "metadata": {},
          "execution_count": 2
        }
      ]
    },
    {
      "cell_type": "code",
      "source": [
        "a[10]"
      ],
      "metadata": {
        "colab": {
          "base_uri": "https://localhost:8080/",
          "height": 179
        },
        "id": "I9dv5PpjmeOH",
        "outputId": "f3ad2c5b-0201-4ca6-cac1-332ff9ad0a18"
      },
      "execution_count": null,
      "outputs": [
        {
          "output_type": "error",
          "ename": "IndexError",
          "evalue": "ignored",
          "traceback": [
            "\u001b[0;31m---------------------------------------------------------------------------\u001b[0m",
            "\u001b[0;31mIndexError\u001b[0m                                Traceback (most recent call last)",
            "\u001b[0;32m<ipython-input-3-7c7cb9812849>\u001b[0m in \u001b[0;36m<cell line: 1>\u001b[0;34m()\u001b[0m\n\u001b[0;32m----> 1\u001b[0;31m \u001b[0ma\u001b[0m\u001b[0;34m[\u001b[0m\u001b[0;36m10\u001b[0m\u001b[0;34m]\u001b[0m\u001b[0;34m\u001b[0m\u001b[0;34m\u001b[0m\u001b[0m\n\u001b[0m",
            "\u001b[0;31mIndexError\u001b[0m: list index out of range"
          ]
        }
      ]
    },
    {
      "cell_type": "code",
      "source": [],
      "metadata": {
        "id": "g5fUzfe9n-_A"
      },
      "execution_count": null,
      "outputs": []
    },
    {
      "cell_type": "code",
      "source": [
        "a = [\"bipin\", 23, print, True, \"Python\"]\n",
        "a[2](\"hollaa\")"
      ],
      "metadata": {
        "id": "R2Sa4pknme9o"
      },
      "execution_count": null,
      "outputs": []
    },
    {
      "cell_type": "code",
      "source": [
        "# len(a) function gives the length/ number of objects in `a`\n",
        "len(a)"
      ],
      "metadata": {
        "id": "ZIsaU7FimrRu"
      },
      "execution_count": null,
      "outputs": []
    },
    {
      "cell_type": "code",
      "source": [
        "# last element\n",
        "a[len(a)-1]"
      ],
      "metadata": {
        "id": "8xCm4z8Um0m9"
      },
      "execution_count": null,
      "outputs": []
    },
    {
      "cell_type": "markdown",
      "source": [
        "> ***Negative indices***:\n",
        "```python\n",
        "->0  1  2  3  4\n",
        "[ 45 18 78 99 100]\n",
        "  -5 -4 -3 -2 -1 <-- negative index\n",
        "```"
      ],
      "metadata": {
        "id": "E0DrIQRXm6Ke"
      }
    },
    {
      "cell_type": "code",
      "source": [
        "a[-1]"
      ],
      "metadata": {
        "id": "vEtfkJdjm3Ix"
      },
      "execution_count": null,
      "outputs": []
    },
    {
      "cell_type": "markdown",
      "source": [
        "### slicing\n",
        "\n",
        "<img src=\"https://d2beiqkhq929f0.cloudfront.net/public_assets/assets/000/016/219/original/Screenshot_2022-10-12_at_9.59.21_AM.png?1665548946\">"
      ],
      "metadata": {
        "id": "gz0fR7Qunfc9"
      }
    },
    {
      "cell_type": "code",
      "source": [
        ";;p"
      ],
      "metadata": {
        "id": "3_hlXsxdnoho"
      },
      "execution_count": null,
      "outputs": []
    },
    {
      "cell_type": "code",
      "source": [
        "a[2 : 7] # [start, end]"
      ],
      "metadata": {
        "id": "aJJNBqGknW_3"
      },
      "execution_count": null,
      "outputs": []
    },
    {
      "cell_type": "code",
      "source": [
        "a[:4] # default start = 0"
      ],
      "metadata": {
        "colab": {
          "base_uri": "https://localhost:8080/"
        },
        "id": "rTx2xz0GnmnT",
        "outputId": "d354a96c-7fbe-4da0-a415-3ecbb0c40f7f"
      },
      "execution_count": null,
      "outputs": [
        {
          "output_type": "execute_result",
          "data": {
            "text/plain": [
              "[1, 2, 3, 4]"
            ]
          },
          "metadata": {},
          "execution_count": 71
        }
      ]
    },
    {
      "cell_type": "code",
      "source": [
        "a[2:] # default end = len(a)"
      ],
      "metadata": {
        "colab": {
          "base_uri": "https://localhost:8080/"
        },
        "id": "noC9zOYrnzm3",
        "outputId": "e9966a1c-2d31-46ea-c0ce-368b7239a8e3"
      },
      "execution_count": null,
      "outputs": [
        {
          "output_type": "execute_result",
          "data": {
            "text/plain": [
              "[3, 4, 5, 6, 7, 8, 9, 10]"
            ]
          },
          "metadata": {},
          "execution_count": 72
        }
      ]
    },
    {
      "cell_type": "code",
      "source": [
        "a[::2] # [start, end, jump]\n",
        "# jump is the difference between consecutive indices"
      ],
      "metadata": {
        "colab": {
          "base_uri": "https://localhost:8080/"
        },
        "id": "YXFBAcUUn3OW",
        "outputId": "dd992b0e-f1f6-462e-d104-db47e3c55484"
      },
      "execution_count": null,
      "outputs": [
        {
          "output_type": "execute_result",
          "data": {
            "text/plain": [
              "[1, 3, 5, 7, 9]"
            ]
          },
          "metadata": {},
          "execution_count": 74
        }
      ]
    },
    {
      "cell_type": "code",
      "source": [
        "# reversing list\n",
        "a[::-1]"
      ],
      "metadata": {
        "colab": {
          "base_uri": "https://localhost:8080/"
        },
        "id": "CeDWPdphn9Ph",
        "outputId": "3539da72-44b8-4e7d-8ffb-104301bd2760"
      },
      "execution_count": null,
      "outputs": [
        {
          "output_type": "execute_result",
          "data": {
            "text/plain": [
              "[10, 9, 8, 7, 6, 5, 4, 3, 2, 1]"
            ]
          },
          "metadata": {},
          "execution_count": 75
        }
      ]
    },
    {
      "cell_type": "code",
      "source": [
        "a[-3:2:-1] # negative jump means going towards left"
      ],
      "metadata": {
        "colab": {
          "base_uri": "https://localhost:8080/"
        },
        "id": "OoXEcK8voVXA",
        "outputId": "41a0d715-26b3-4df7-8bb6-cb87512dc564"
      },
      "execution_count": null,
      "outputs": [
        {
          "output_type": "execute_result",
          "data": {
            "text/plain": [
              "[8, 7, 6, 5, 4]"
            ]
          },
          "metadata": {},
          "execution_count": 80
        }
      ]
    },
    {
      "cell_type": "code",
      "source": [
        "a = [\"abc\", 23, 45.8, True]\n",
        "max(a)"
      ],
      "metadata": {
        "colab": {
          "base_uri": "https://localhost:8080/",
          "height": 187
        },
        "id": "Bc_c9Ple_FRo",
        "outputId": "019102a9-344f-4cff-c979-efdcb196aa58"
      },
      "execution_count": null,
      "outputs": [
        {
          "output_type": "error",
          "ename": "TypeError",
          "evalue": "ignored",
          "traceback": [
            "\u001b[0;31m---------------------------------------------------------------------------\u001b[0m",
            "\u001b[0;31mTypeError\u001b[0m                                 Traceback (most recent call last)",
            "\u001b[0;32m<ipython-input-2-3f9b239df6b7>\u001b[0m in \u001b[0;36m<module>\u001b[0;34m\u001b[0m\n\u001b[1;32m      1\u001b[0m \u001b[0ma\u001b[0m \u001b[0;34m=\u001b[0m \u001b[0;34m[\u001b[0m\u001b[0;34m\"abc\"\u001b[0m\u001b[0;34m,\u001b[0m \u001b[0;36m23\u001b[0m\u001b[0;34m,\u001b[0m \u001b[0;36m45.8\u001b[0m\u001b[0;34m,\u001b[0m \u001b[0;32mTrue\u001b[0m\u001b[0;34m]\u001b[0m\u001b[0;34m\u001b[0m\u001b[0;34m\u001b[0m\u001b[0m\n\u001b[0;32m----> 2\u001b[0;31m \u001b[0mmax\u001b[0m\u001b[0;34m(\u001b[0m\u001b[0ma\u001b[0m\u001b[0;34m)\u001b[0m\u001b[0;34m\u001b[0m\u001b[0;34m\u001b[0m\u001b[0m\n\u001b[0m",
            "\u001b[0;31mTypeError\u001b[0m: '>' not supported between instances of 'int' and 'str'"
          ]
        }
      ]
    },
    {
      "cell_type": "code",
      "source": [
        "# max() gives maximum element of list\n",
        "max(a)"
      ],
      "metadata": {
        "colab": {
          "base_uri": "https://localhost:8080/"
        },
        "id": "wcEv4nwaot0x",
        "outputId": "799164f6-6311-4484-ae1a-7880bca528ef"
      },
      "execution_count": null,
      "outputs": [
        {
          "output_type": "execute_result",
          "data": {
            "text/plain": [
              "10"
            ]
          },
          "metadata": {},
          "execution_count": 81
        }
      ]
    },
    {
      "cell_type": "code",
      "source": [
        "min(a) # returns min value of list"
      ],
      "metadata": {
        "colab": {
          "base_uri": "https://localhost:8080/"
        },
        "id": "OF8lKGy1pQnb",
        "outputId": "d603ec51-95f6-43ec-e96e-cb6aa59d33aa"
      },
      "execution_count": null,
      "outputs": [
        {
          "output_type": "execute_result",
          "data": {
            "text/plain": [
              "1"
            ]
          },
          "metadata": {},
          "execution_count": 82
        }
      ]
    },
    {
      "cell_type": "code",
      "source": [
        "a = [\"sndnas\", 1,2]\n",
        "min(a)"
      ],
      "metadata": {
        "colab": {
          "base_uri": "https://localhost:8080/",
          "height": 186
        },
        "id": "V2dIBI86pTb_",
        "outputId": "4234268f-5caf-49b7-f3f6-dac2e1250990"
      },
      "execution_count": null,
      "outputs": [
        {
          "output_type": "error",
          "ename": "TypeError",
          "evalue": "ignored",
          "traceback": [
            "\u001b[0;31m---------------------------------------------------------------------------\u001b[0m",
            "\u001b[0;31mTypeError\u001b[0m                                 Traceback (most recent call last)",
            "\u001b[0;32m<ipython-input-83-8b801d785c7c>\u001b[0m in \u001b[0;36m<module>\u001b[0;34m\u001b[0m\n\u001b[1;32m      1\u001b[0m \u001b[0ma\u001b[0m \u001b[0;34m=\u001b[0m \u001b[0;34m[\u001b[0m\u001b[0;34m\"sndnas\"\u001b[0m\u001b[0;34m,\u001b[0m \u001b[0;36m1\u001b[0m\u001b[0;34m,\u001b[0m\u001b[0;36m2\u001b[0m\u001b[0;34m]\u001b[0m\u001b[0;34m\u001b[0m\u001b[0;34m\u001b[0m\u001b[0m\n\u001b[0;32m----> 2\u001b[0;31m \u001b[0mmin\u001b[0m\u001b[0;34m(\u001b[0m\u001b[0ma\u001b[0m\u001b[0;34m)\u001b[0m\u001b[0;34m\u001b[0m\u001b[0;34m\u001b[0m\u001b[0m\n\u001b[0m",
            "\u001b[0;31mTypeError\u001b[0m: '<' not supported between instances of 'int' and 'str'"
          ]
        }
      ]
    },
    {
      "cell_type": "code",
      "source": [
        "a = [\"a\", \"b\", \"c\"]\n",
        "max(a)\n",
        "# lexicographical comparison"
      ],
      "metadata": {
        "colab": {
          "base_uri": "https://localhost:8080/",
          "height": 36
        },
        "id": "ZlaRNC-8pXTf",
        "outputId": "6462351d-82fd-452d-c286-67dd4dc1985d"
      },
      "execution_count": null,
      "outputs": [
        {
          "output_type": "execute_result",
          "data": {
            "text/plain": [
              "'c'"
            ],
            "application/vnd.google.colaboratory.intrinsic+json": {
              "type": "string"
            }
          },
          "metadata": {},
          "execution_count": 85
        }
      ]
    },
    {
      "cell_type": "code",
      "source": [
        "[1,2,3] + [4,5,6]\n",
        "# both gets concatenated into one"
      ],
      "metadata": {
        "colab": {
          "base_uri": "https://localhost:8080/"
        },
        "id": "y59EvlxBpbOs",
        "outputId": "54ffe3a0-344e-43e7-82ed-a665d920c12f"
      },
      "execution_count": null,
      "outputs": [
        {
          "output_type": "execute_result",
          "data": {
            "text/plain": [
              "[1, 2, 3, 4, 5, 6]"
            ]
          },
          "metadata": {},
          "execution_count": 87
        }
      ]
    },
    {
      "cell_type": "code",
      "source": [
        "[1,2,3,4,5,6] - [4,5,6]"
      ],
      "metadata": {
        "colab": {
          "base_uri": "https://localhost:8080/",
          "height": 168
        },
        "id": "8tVM6Re1ph-B",
        "outputId": "cf33edba-023f-4bf4-a18b-9b12ccdfda53"
      },
      "execution_count": null,
      "outputs": [
        {
          "output_type": "error",
          "ename": "TypeError",
          "evalue": "ignored",
          "traceback": [
            "\u001b[0;31m---------------------------------------------------------------------------\u001b[0m",
            "\u001b[0;31mTypeError\u001b[0m                                 Traceback (most recent call last)",
            "\u001b[0;32m<ipython-input-88-3fa657d3dbc0>\u001b[0m in \u001b[0;36m<module>\u001b[0;34m\u001b[0m\n\u001b[0;32m----> 1\u001b[0;31m \u001b[0;34m[\u001b[0m\u001b[0;36m1\u001b[0m\u001b[0;34m,\u001b[0m\u001b[0;36m2\u001b[0m\u001b[0;34m,\u001b[0m\u001b[0;36m3\u001b[0m\u001b[0;34m,\u001b[0m\u001b[0;36m4\u001b[0m\u001b[0;34m,\u001b[0m\u001b[0;36m5\u001b[0m\u001b[0;34m,\u001b[0m\u001b[0;36m6\u001b[0m\u001b[0;34m]\u001b[0m \u001b[0;34m-\u001b[0m \u001b[0;34m[\u001b[0m\u001b[0;36m4\u001b[0m\u001b[0;34m,\u001b[0m\u001b[0;36m5\u001b[0m\u001b[0;34m,\u001b[0m\u001b[0;36m6\u001b[0m\u001b[0;34m]\u001b[0m\u001b[0;34m\u001b[0m\u001b[0;34m\u001b[0m\u001b[0m\n\u001b[0m",
            "\u001b[0;31mTypeError\u001b[0m: unsupported operand type(s) for -: 'list' and 'list'"
          ]
        }
      ]
    },
    {
      "cell_type": "code",
      "source": [
        "[1,2,3]*2"
      ],
      "metadata": {
        "colab": {
          "base_uri": "https://localhost:8080/"
        },
        "id": "jgjj6ylOp6Ku",
        "outputId": "75054e1b-c7c4-4fc8-aa60-6156bd8d83b7"
      },
      "execution_count": null,
      "outputs": [
        {
          "output_type": "execute_result",
          "data": {
            "text/plain": [
              "[1, 2, 3, 1, 2, 3]"
            ]
          },
          "metadata": {},
          "execution_count": 89
        }
      ]
    },
    {
      "cell_type": "code",
      "source": [
        "# lists are iterable\n",
        "a = [\"bipin\", \"is\", \"fairly\", \"good\", \"at\", \"python\", 4,5,True]\n",
        "for i in a:\n",
        "  print(i)"
      ],
      "metadata": {
        "colab": {
          "base_uri": "https://localhost:8080/"
        },
        "id": "ytqVArKVp8Tq",
        "outputId": "5a08d417-5c1b-4992-f0db-834b3c63c97a"
      },
      "execution_count": null,
      "outputs": [
        {
          "output_type": "stream",
          "name": "stdout",
          "text": [
            "bipin\n",
            "is\n",
            "fairly\n",
            "good\n",
            "at\n",
            "python\n",
            "4\n",
            "5\n",
            "True\n"
          ]
        }
      ]
    },
    {
      "cell_type": "code",
      "source": [
        "it = iter(a)\n",
        "it"
      ],
      "metadata": {
        "colab": {
          "base_uri": "https://localhost:8080/"
        },
        "id": "z6SbND18qG2n",
        "outputId": "b05bb458-a197-4c9b-b218-3a992f694309"
      },
      "execution_count": null,
      "outputs": [
        {
          "output_type": "execute_result",
          "data": {
            "text/plain": [
              "<list_iterator at 0x7f9f632bb250>"
            ]
          },
          "metadata": {},
          "execution_count": 94
        }
      ]
    },
    {
      "cell_type": "code",
      "source": [
        "next(it)"
      ],
      "metadata": {
        "colab": {
          "base_uri": "https://localhost:8080/",
          "height": 36
        },
        "id": "WQSNci4BqJys",
        "outputId": "c77b16a7-cf33-43af-86bb-18bff908e6f2"
      },
      "execution_count": null,
      "outputs": [
        {
          "output_type": "execute_result",
          "data": {
            "text/plain": [
              "'fairly'"
            ],
            "application/vnd.google.colaboratory.intrinsic+json": {
              "type": "string"
            }
          },
          "metadata": {},
          "execution_count": 97
        }
      ]
    },
    {
      "cell_type": "code",
      "source": [
        "a = [[1,2], [2,4], [5,6]]"
      ],
      "metadata": {
        "id": "VBtXTIg9qKXP"
      },
      "execution_count": null,
      "outputs": []
    },
    {
      "cell_type": "code",
      "source": [
        "a[0]"
      ],
      "metadata": {
        "colab": {
          "base_uri": "https://localhost:8080/"
        },
        "id": "CcbsONDgqVPe",
        "outputId": "c3582990-09b4-406a-fc73-430f12d136ba"
      },
      "execution_count": null,
      "outputs": [
        {
          "output_type": "execute_result",
          "data": {
            "text/plain": [
              "[1, 2]"
            ]
          },
          "metadata": {},
          "execution_count": 99
        }
      ]
    },
    {
      "cell_type": "code",
      "source": [
        "a[0][0]"
      ],
      "metadata": {
        "colab": {
          "base_uri": "https://localhost:8080/"
        },
        "id": "nlIh6ms7qVoF",
        "outputId": "6feefc45-9179-483b-a2f0-98f9efa82117"
      },
      "execution_count": null,
      "outputs": [
        {
          "output_type": "execute_result",
          "data": {
            "text/plain": [
              "1"
            ]
          },
          "metadata": {},
          "execution_count": 100
        }
      ]
    },
    {
      "cell_type": "code",
      "source": [
        "# list are mutable\n",
        "a = [1,2,3,4,5,6]\n",
        "print(id(a))\n",
        "a[0] = 9\n",
        "print(id(a))"
      ],
      "metadata": {
        "colab": {
          "base_uri": "https://localhost:8080/"
        },
        "id": "g2r6EMFEqWxB",
        "outputId": "d319f42c-4828-41a3-d8bd-88e6c7ab8de9"
      },
      "execution_count": null,
      "outputs": [
        {
          "output_type": "stream",
          "name": "stdout",
          "text": [
            "140322540174624\n",
            "140322540174624\n"
          ]
        }
      ]
    },
    {
      "cell_type": "markdown",
      "source": [
        "## Tuples\n",
        "- Simply tuples are immutable lists"
      ],
      "metadata": {
        "id": "Jmw3PTjoRqds"
      }
    },
    {
      "cell_type": "code",
      "source": [
        "a = (1,2,3,4)\n",
        "a"
      ],
      "metadata": {
        "colab": {
          "base_uri": "https://localhost:8080/"
        },
        "id": "6CcmIcfUn83S",
        "outputId": "bc641f1b-30b3-490a-9b8c-cce177c9bf97"
      },
      "execution_count": null,
      "outputs": [
        {
          "output_type": "execute_result",
          "data": {
            "text/plain": [
              "(1, 2, 3, 4)"
            ]
          },
          "metadata": {},
          "execution_count": 1
        }
      ]
    },
    {
      "cell_type": "code",
      "source": [
        "type(a)"
      ],
      "metadata": {
        "colab": {
          "base_uri": "https://localhost:8080/"
        },
        "id": "A9o_NVgpoGvE",
        "outputId": "81315935-2cfe-47d8-fb3d-f36271961c92"
      },
      "execution_count": null,
      "outputs": [
        {
          "output_type": "execute_result",
          "data": {
            "text/plain": [
              "tuple"
            ]
          },
          "metadata": {},
          "execution_count": 2
        }
      ]
    },
    {
      "cell_type": "code",
      "source": [
        "a[0] = 45 # re-assignment not allowed"
      ],
      "metadata": {
        "colab": {
          "base_uri": "https://localhost:8080/",
          "height": 168
        },
        "id": "5IThiuUIoInH",
        "outputId": "b2b8cb0b-8aa7-464c-9a55-7b23e0b857cb"
      },
      "execution_count": null,
      "outputs": [
        {
          "output_type": "error",
          "ename": "TypeError",
          "evalue": "ignored",
          "traceback": [
            "\u001b[0;31m---------------------------------------------------------------------------\u001b[0m",
            "\u001b[0;31mTypeError\u001b[0m                                 Traceback (most recent call last)",
            "\u001b[0;32m<ipython-input-4-28c9e14c9b77>\u001b[0m in \u001b[0;36m<module>\u001b[0;34m\u001b[0m\n\u001b[0;32m----> 1\u001b[0;31m \u001b[0ma\u001b[0m\u001b[0;34m[\u001b[0m\u001b[0;36m0\u001b[0m\u001b[0;34m]\u001b[0m \u001b[0;34m=\u001b[0m \u001b[0;36m45\u001b[0m \u001b[0;31m# re-assignment not allowed\u001b[0m\u001b[0;34m\u001b[0m\u001b[0;34m\u001b[0m\u001b[0m\n\u001b[0m",
            "\u001b[0;31mTypeError\u001b[0m: 'tuple' object does not support item assignment"
          ]
        }
      ]
    },
    {
      "cell_type": "code",
      "source": [
        "# defining tuple with single element\n",
        "a = (10,)\n",
        "type(a), a"
      ],
      "metadata": {
        "colab": {
          "base_uri": "https://localhost:8080/"
        },
        "id": "OFZ4rQRVoW7A",
        "outputId": "6f1735e2-e4c8-4293-96d5-00b719628165"
      },
      "execution_count": null,
      "outputs": [
        {
          "output_type": "execute_result",
          "data": {
            "text/plain": [
              "(tuple, (10,))"
            ]
          },
          "metadata": {},
          "execution_count": 6
        }
      ]
    },
    {
      "cell_type": "markdown",
      "source": [
        "Packing and Unpacking using Tuples\n",
        "- need exact amount of variables as elements in tuple to pack and unpack\n",
        "- unpacking can be used with `list` but no packing\n",
        "- Python by default for packing & unpacking uses `tuples`"
      ],
      "metadata": {
        "id": "bw9V8Ehho_z-"
      }
    },
    {
      "cell_type": "code",
      "source": [
        "a = (1,2,3)"
      ],
      "metadata": {
        "id": "ecT-htlooz9H"
      },
      "execution_count": null,
      "outputs": []
    },
    {
      "cell_type": "code",
      "source": [
        "x, y, z = a"
      ],
      "metadata": {
        "id": "sIFdtth5ocp7"
      },
      "execution_count": null,
      "outputs": []
    },
    {
      "cell_type": "code",
      "source": [
        "print(x, y, z)"
      ],
      "metadata": {
        "colab": {
          "base_uri": "https://localhost:8080/"
        },
        "id": "kUT1NwxKpJdb",
        "outputId": "3f169cc6-ea60-44c6-fa06-8b5b5fc765d9"
      },
      "execution_count": null,
      "outputs": [
        {
          "output_type": "stream",
          "name": "stdout",
          "text": [
            "1 2 3\n"
          ]
        }
      ]
    },
    {
      "cell_type": "code",
      "source": [
        "def foo():\n",
        "  return 1,2,3"
      ],
      "metadata": {
        "id": "77YAIa-DpnVa"
      },
      "execution_count": null,
      "outputs": []
    },
    {
      "cell_type": "code",
      "source": [
        "bar = foo()\n",
        "print(bar)\n",
        "print(type(bar))"
      ],
      "metadata": {
        "colab": {
          "base_uri": "https://localhost:8080/"
        },
        "id": "_Dx0Ag9HppqI",
        "outputId": "51958145-fc7f-49ab-b866-c6f2ddc4a7b4"
      },
      "execution_count": null,
      "outputs": [
        {
          "output_type": "stream",
          "name": "stdout",
          "text": [
            "(1, 2, 3)\n",
            "<class 'tuple'>\n"
          ]
        }
      ]
    },
    {
      "cell_type": "code",
      "source": [
        "a, b, c = foo()\n",
        "print(a,b,c)"
      ],
      "metadata": {
        "colab": {
          "base_uri": "https://localhost:8080/"
        },
        "id": "38AIe3lBpwBJ",
        "outputId": "a313c3e8-7dd1-4782-ef92-1b55649a532f"
      },
      "execution_count": null,
      "outputs": [
        {
          "output_type": "stream",
          "name": "stdout",
          "text": [
            "1 2 3\n"
          ]
        }
      ]
    },
    {
      "cell_type": "code",
      "source": [
        "# unpacking of list\n",
        "a,b = [1,2]\n",
        "print(a, b)"
      ],
      "metadata": {
        "colab": {
          "base_uri": "https://localhost:8080/"
        },
        "id": "Zs_OaBzUqDHD",
        "outputId": "d81b0746-90b4-471f-b472-19d5125d07f9"
      },
      "execution_count": null,
      "outputs": [
        {
          "output_type": "stream",
          "name": "stdout",
          "text": [
            "1 2\n"
          ]
        }
      ]
    },
    {
      "cell_type": "code",
      "source": [
        "tup = 1,2,3\n",
        "print(tup)"
      ],
      "metadata": {
        "colab": {
          "base_uri": "https://localhost:8080/"
        },
        "id": "lk6pfgjOqMxi",
        "outputId": "8143c46a-236c-4b7a-e4e2-b7719b760cf6"
      },
      "execution_count": null,
      "outputs": [
        {
          "output_type": "stream",
          "name": "stdout",
          "text": [
            "(1, 2, 3)\n"
          ]
        }
      ]
    },
    {
      "cell_type": "code",
      "source": [
        "# swapping without using third variable\n",
        "a = 100\n",
        "b = 200\n",
        "print(a, b)\n",
        "\n",
        "a, b = b, a\n",
        "print(a, b)"
      ],
      "metadata": {
        "colab": {
          "base_uri": "https://localhost:8080/"
        },
        "id": "aUv5feavqjIi",
        "outputId": "8cca7368-601d-4d3c-fb55-2ef2229cf434"
      },
      "execution_count": null,
      "outputs": [
        {
          "output_type": "stream",
          "name": "stdout",
          "text": [
            "100 200\n",
            "200 100\n"
          ]
        }
      ]
    },
    {
      "cell_type": "code",
      "source": [
        "a = (1,2,3,4,5,6,7,8)\n",
        "print(\"max: \", max(a))\n",
        "print(\"min: \", min(a))\n",
        "print(\"len: \", len(a))\n",
        "print(\"max: \", max(a))"
      ],
      "metadata": {
        "colab": {
          "base_uri": "https://localhost:8080/"
        },
        "id": "bJqKTvknrGi_",
        "outputId": "f9fd217f-eef4-4384-bd8d-2d23d21ebeb5"
      },
      "execution_count": null,
      "outputs": [
        {
          "output_type": "stream",
          "name": "stdout",
          "text": [
            "max:  8\n",
            "min:  1\n",
            "len:  8\n",
            "max:  8\n"
          ]
        }
      ]
    },
    {
      "cell_type": "code",
      "source": [
        "5 in a"
      ],
      "metadata": {
        "colab": {
          "base_uri": "https://localhost:8080/"
        },
        "id": "DN9uEp15reAS",
        "outputId": "fd57da46-8a87-4539-9fe9-e8617c8c7854"
      },
      "execution_count": null,
      "outputs": [
        {
          "output_type": "execute_result",
          "data": {
            "text/plain": [
              "True"
            ]
          },
          "metadata": {},
          "execution_count": 22
        }
      ]
    },
    {
      "cell_type": "code",
      "source": [
        "a = (1,2,3) + (4,)\n",
        "a"
      ],
      "metadata": {
        "colab": {
          "base_uri": "https://localhost:8080/"
        },
        "id": "tsarrBKUr2WZ",
        "outputId": "2bf5ccaa-f6fb-4042-8505-9f5652078169"
      },
      "execution_count": null,
      "outputs": [
        {
          "output_type": "execute_result",
          "data": {
            "text/plain": [
              "(1, 2, 3, 4)"
            ]
          },
          "metadata": {},
          "execution_count": 23
        }
      ]
    },
    {
      "cell_type": "markdown",
      "source": [
        "## Dictionaries\n",
        "- dictionaries have key-value pairs\n",
        "- unordered: order of insertion is not maintained\n",
        "- mutable\n",
        "- indexable using keys\n",
        "- Dictionaries are **iterable**\n",
        "- Any `immutable` data structure can be `key`\n",
        "- Any `immutable` or `mutable` data structure can be `value`\n",
        "\n",
        "```python\n",
        "d = {\n",
        "  key : value\n",
        "}\n",
        "```"
      ],
      "metadata": {
        "id": "_AgQZJUEsS8F"
      }
    },
    {
      "cell_type": "code",
      "source": [
        "d1 = {\n",
        "    \"name\" : \"Bipin\",\n",
        "    \"age\": 5000,\n",
        "    \"subject\": [\"python\", \"JS\"]\n",
        "}\n",
        "d1"
      ],
      "metadata": {
        "colab": {
          "base_uri": "https://localhost:8080/"
        },
        "id": "q2KhQvFDsg3g",
        "outputId": "3c935b0b-10ac-48ad-a1e1-43ed8d635802"
      },
      "execution_count": null,
      "outputs": [
        {
          "output_type": "execute_result",
          "data": {
            "text/plain": [
              "{'name': 'Bipin', 'age': 5000, 'subject': ['python', 'JS']}"
            ]
          },
          "metadata": {},
          "execution_count": 1
        }
      ]
    },
    {
      "cell_type": "code",
      "source": [
        "d1.get(\"name\")"
      ],
      "metadata": {
        "colab": {
          "base_uri": "https://localhost:8080/",
          "height": 35
        },
        "id": "wVLfv6P1GqKP",
        "outputId": "e9e2b9ae-86ea-443c-9f8e-dfd05c995a13"
      },
      "execution_count": null,
      "outputs": [
        {
          "output_type": "execute_result",
          "data": {
            "text/plain": [
              "'Bipin'"
            ],
            "application/vnd.google.colaboratory.intrinsic+json": {
              "type": "string"
            }
          },
          "metadata": {},
          "execution_count": 2
        }
      ]
    },
    {
      "cell_type": "code",
      "source": [
        "d1[\"name\"] # accessing value of a key"
      ],
      "metadata": {
        "colab": {
          "base_uri": "https://localhost:8080/",
          "height": 36
        },
        "id": "UR12Z1PNtAv5",
        "outputId": "750547dc-918a-4c8e-d9ba-c42b41ada9f7"
      },
      "execution_count": null,
      "outputs": [
        {
          "output_type": "execute_result",
          "data": {
            "text/plain": [
              "'Bipin'"
            ],
            "application/vnd.google.colaboratory.intrinsic+json": {
              "type": "string"
            }
          },
          "metadata": {},
          "execution_count": 27
        }
      ]
    },
    {
      "cell_type": "code",
      "source": [
        "d1[\"name\"] = \"I am supercool\" # mutable\n",
        "d1"
      ],
      "metadata": {
        "colab": {
          "base_uri": "https://localhost:8080/"
        },
        "id": "QJDuikL0tRjJ",
        "outputId": "4b7a03ec-2b1c-4b0f-a6e5-70f4f0045fcb"
      },
      "execution_count": null,
      "outputs": [
        {
          "output_type": "execute_result",
          "data": {
            "text/plain": [
              "{'name': 'I am supercool', 'age': 5000, 'subject': ['python', 'JS']}"
            ]
          },
          "metadata": {},
          "execution_count": 29
        }
      ]
    },
    {
      "cell_type": "code",
      "source": [
        "# deleting a key-value pair\n",
        "d1.pop(\"age\")\n",
        "d1"
      ],
      "metadata": {
        "colab": {
          "base_uri": "https://localhost:8080/"
        },
        "id": "00NIX1NntXHK",
        "outputId": "87c0cd99-c730-43c0-98f4-00034700e693"
      },
      "execution_count": null,
      "outputs": [
        {
          "output_type": "execute_result",
          "data": {
            "text/plain": [
              "{'name': 'I am supercool', 'subject': ['python', 'JS']}"
            ]
          },
          "metadata": {},
          "execution_count": 30
        }
      ]
    },
    {
      "cell_type": "code",
      "source": [
        "d4= {\"lang\": \"JS\"}\n",
        "d4.update({\"lang\": \"Python\", \"awesomeness\": float(\"inf\")})\n",
        "d4"
      ],
      "metadata": {
        "colab": {
          "base_uri": "https://localhost:8080/"
        },
        "id": "NXQ0d6xSHN0C",
        "outputId": "2fa26e8a-b9d7-4c06-cb07-b1cae3bdb935"
      },
      "execution_count": null,
      "outputs": [
        {
          "output_type": "execute_result",
          "data": {
            "text/plain": [
              "{'lang': 'Python', 'awesomeness': inf}"
            ]
          },
          "metadata": {},
          "execution_count": 8
        }
      ]
    },
    {
      "cell_type": "code",
      "source": [
        "Person = {\n",
        "    \"name\":\"Bipin\",\n",
        "    \"age\": 10000,\n",
        "    \"subject\": \"python\"\n",
        "}\n",
        "Person"
      ],
      "metadata": {
        "colab": {
          "base_uri": "https://localhost:8080/"
        },
        "id": "f8MIyzdVta3y",
        "outputId": "c8880cd4-055f-486a-8328-61038df33075"
      },
      "execution_count": null,
      "outputs": [
        {
          "output_type": "execute_result",
          "data": {
            "text/plain": [
              "{'name': 'Bipin', 'age': 10000, 'subject': 'python'}"
            ]
          },
          "metadata": {},
          "execution_count": 32
        }
      ]
    },
    {
      "cell_type": "code",
      "source": [
        "# updating the dictionary\n",
        "Person.update({\n",
        "    \"name\": \"Bipin Kalra\",\n",
        "    \"subject\": [\"Python\", \"JS\"],\n",
        "    \"cool?\": True\n",
        "})\n",
        "\n",
        "Person"
      ],
      "metadata": {
        "colab": {
          "base_uri": "https://localhost:8080/"
        },
        "id": "9rmFxiUPuM7u",
        "outputId": "3c4c7ba5-4251-4384-e036-6bf519a14f50"
      },
      "execution_count": null,
      "outputs": [
        {
          "output_type": "execute_result",
          "data": {
            "text/plain": [
              "{'name': 'Bipin Kalra',\n",
              " 'age': 10000,\n",
              " 'subject': ['Python', 'JS'],\n",
              " 'cool?': True}"
            ]
          },
          "metadata": {},
          "execution_count": 33
        }
      ]
    },
    {
      "cell_type": "markdown",
      "source": [
        "Iterating over dictionaries:"
      ],
      "metadata": {
        "id": "_ox9a3C9vttR"
      }
    },
    {
      "cell_type": "code",
      "source": [
        "for i in Person: # by default it'll iterate over keys\n",
        "  print(i)"
      ],
      "metadata": {
        "colab": {
          "base_uri": "https://localhost:8080/"
        },
        "id": "bxDKabvMvs6Q",
        "outputId": "4357bf27-f098-4b89-c06d-17e7352a35d0"
      },
      "execution_count": null,
      "outputs": [
        {
          "output_type": "stream",
          "name": "stdout",
          "text": [
            "name\n",
            "age\n",
            "subject\n",
            "cool?\n"
          ]
        }
      ]
    },
    {
      "cell_type": "code",
      "source": [
        "# iterating over values\n",
        "for i in Person.values():\n",
        "  print(i)"
      ],
      "metadata": {
        "colab": {
          "base_uri": "https://localhost:8080/"
        },
        "id": "13iAJyNgv2zD",
        "outputId": "f7fa7ca6-8914-4ef4-fc39-568f2b0219c9"
      },
      "execution_count": null,
      "outputs": [
        {
          "output_type": "stream",
          "name": "stdout",
          "text": [
            "Bipin Kalra\n",
            "10000\n",
            "['Python', 'JS']\n",
            "True\n"
          ]
        }
      ]
    },
    {
      "cell_type": "code",
      "source": [
        "# iterating over both keys and values\n",
        "# items() method returns the list of tuples with (key, value) and that tuple can be later unpacked\n",
        "for key, value in Person.items():\n",
        "  print(key, \"->\", value)"
      ],
      "metadata": {
        "colab": {
          "base_uri": "https://localhost:8080/"
        },
        "id": "JIiVeaF9v84I",
        "outputId": "e14efc70-5481-43ed-88ff-c3fc324aa505"
      },
      "execution_count": null,
      "outputs": [
        {
          "output_type": "stream",
          "name": "stdout",
          "text": [
            "name -> Bipin Kalra\n",
            "age -> 10000\n",
            "subject -> ['Python', 'JS']\n",
            "cool? -> True\n"
          ]
        }
      ]
    },
    {
      "cell_type": "code",
      "source": [
        "# Any immutable data structure can be key\n",
        "# Any immutable or mutable data structure can be value\n",
        "\n",
        "d1 = {\n",
        "    \"key1\" : \"value1\",\n",
        "    (1,23): {\n",
        "        \"random\": \"nested dict\"\n",
        "    },\n",
        "    45: True,\n",
        "    True: (1,2,3,4,5,6,7),\n",
        "    # [1,2,3]: \"value\" (not allowed since list are mutable)\n",
        "}\n",
        "\n",
        "print(d1)"
      ],
      "metadata": {
        "colab": {
          "base_uri": "https://localhost:8080/"
        },
        "id": "crDVH2HQwdGY",
        "outputId": "e593455c-af08-4034-84de-da6f9428b95b"
      },
      "execution_count": null,
      "outputs": [
        {
          "output_type": "stream",
          "name": "stdout",
          "text": [
            "{'key1': 'value1', (1, 23): {'random': 'nested dict'}, 45: True, True: (1, 2, 3, 4, 5, 6, 7)}\n"
          ]
        }
      ]
    },
    {
      "cell_type": "code",
      "source": [
        "d1[(1,23)]"
      ],
      "metadata": {
        "colab": {
          "base_uri": "https://localhost:8080/"
        },
        "id": "uHdBF_uDxVX-",
        "outputId": "3de6a0ce-a199-49b4-b1a0-f927003d9ed8"
      },
      "execution_count": null,
      "outputs": [
        {
          "output_type": "execute_result",
          "data": {
            "text/plain": [
              "{'random': 'nested dict'}"
            ]
          },
          "metadata": {},
          "execution_count": 42
        }
      ]
    },
    {
      "cell_type": "code",
      "source": [
        "# using .get(key) method is a better way to access key rather than using key-indexing,\n",
        "# if key does not exist it'll return None\n",
        "\n",
        "print(d1.get(100))"
      ],
      "metadata": {
        "colab": {
          "base_uri": "https://localhost:8080/"
        },
        "id": "kHZZXitWxZ6m",
        "outputId": "a8495875-b4ab-4b52-e12a-157c2e9b63b3"
      },
      "execution_count": null,
      "outputs": [
        {
          "output_type": "stream",
          "name": "stdout",
          "text": [
            "None\n"
          ]
        }
      ]
    },
    {
      "cell_type": "code",
      "source": [
        "print(d1.get(100, \"not found\"))"
      ],
      "metadata": {
        "colab": {
          "base_uri": "https://localhost:8080/"
        },
        "id": "deVrMMOxyLUn",
        "outputId": "ca7ae5f7-cf05-4e41-e489-feab443a47db"
      },
      "execution_count": null,
      "outputs": [
        {
          "output_type": "stream",
          "name": "stdout",
          "text": [
            "not found\n"
          ]
        }
      ]
    },
    {
      "cell_type": "markdown",
      "source": [
        "## Sets\n",
        "- unordered\n",
        "- non-indexable\n",
        "- mutable\n",
        "- stores unique values (repeated gets removed)\n",
        "- iterable\n",
        "- can only contain `immutable` data structures"
      ],
      "metadata": {
        "id": "hO09kB_9vg4L"
      }
    },
    {
      "cell_type": "code",
      "source": [
        "s1 = {1,2,3,3,3,4,4,5,5,}\n",
        "s1"
      ],
      "metadata": {
        "colab": {
          "base_uri": "https://localhost:8080/"
        },
        "id": "rtI7fjGzuZuf",
        "outputId": "bc53bee6-8180-4e3d-d441-fca74aa79da1"
      },
      "execution_count": null,
      "outputs": [
        {
          "output_type": "execute_result",
          "data": {
            "text/plain": [
              "{1, 2, 3, 4, 5}"
            ]
          },
          "metadata": {},
          "execution_count": 48
        }
      ]
    },
    {
      "cell_type": "code",
      "source": [
        "# creating empty set, can't use {} syntax due to ambiguity with dictionaries\n",
        "s1 = set()\n",
        "s1"
      ],
      "metadata": {
        "colab": {
          "base_uri": "https://localhost:8080/"
        },
        "id": "yCgrcTCFywH2",
        "outputId": "2989196c-5b7e-4132-818d-1d4886ab9227"
      },
      "execution_count": null,
      "outputs": [
        {
          "output_type": "execute_result",
          "data": {
            "text/plain": [
              "set()"
            ]
          },
          "metadata": {},
          "execution_count": 53
        }
      ]
    },
    {
      "cell_type": "code",
      "source": [
        "s1.add(10) # adding element to set\n",
        "s1"
      ],
      "metadata": {
        "colab": {
          "base_uri": "https://localhost:8080/"
        },
        "id": "qoQToDJky8m0",
        "outputId": "757db255-604a-437d-be5d-1309b7642cc6"
      },
      "execution_count": null,
      "outputs": [
        {
          "output_type": "execute_result",
          "data": {
            "text/plain": [
              "{10}"
            ]
          },
          "metadata": {},
          "execution_count": 54
        }
      ]
    },
    {
      "cell_type": "code",
      "source": [
        "s1.remove(10) # removing element from set\n",
        "s1"
      ],
      "metadata": {
        "colab": {
          "base_uri": "https://localhost:8080/"
        },
        "id": "hNsqbzoczB1c",
        "outputId": "42358976-63c4-44fa-c3ad-0d26cc731bb7"
      },
      "execution_count": null,
      "outputs": [
        {
          "output_type": "execute_result",
          "data": {
            "text/plain": [
              "set()"
            ]
          },
          "metadata": {},
          "execution_count": 55
        }
      ]
    },
    {
      "cell_type": "code",
      "source": [
        "s1.update([1,2,3,4,5,6]) # updating set elements\n",
        "s1"
      ],
      "metadata": {
        "colab": {
          "base_uri": "https://localhost:8080/"
        },
        "id": "gqjNkxNFzIt1",
        "outputId": "0242a10b-b8dc-4bb2-bf1f-648d7bbff379"
      },
      "execution_count": null,
      "outputs": [
        {
          "output_type": "execute_result",
          "data": {
            "text/plain": [
              "{1, 2, 3, 4, 5, 6}"
            ]
          },
          "metadata": {},
          "execution_count": 56
        }
      ]
    },
    {
      "cell_type": "code",
      "source": [
        "for i in s1:\n",
        "  print(i)"
      ],
      "metadata": {
        "colab": {
          "base_uri": "https://localhost:8080/"
        },
        "id": "AXPKFgbAzMXK",
        "outputId": "416c71fc-e289-40b1-bbd7-eda3269a46de"
      },
      "execution_count": null,
      "outputs": [
        {
          "output_type": "stream",
          "name": "stdout",
          "text": [
            "1\n",
            "2\n",
            "3\n",
            "4\n",
            "5\n",
            "6\n"
          ]
        }
      ]
    },
    {
      "cell_type": "markdown",
      "source": [
        "### Set Operations:\n",
        "```\n",
        "A = {1,2}\n",
        "B = {1,3,4,5}\n",
        "```\n",
        "\n",
        "- ***Intersection***\n",
        "  - <img src=\"https://d2beiqkhq929f0.cloudfront.net/public_assets/assets/000/015/046/original/Screenshot_2022-09-21_at_1.10.06_PM.png?1663746030\">\n",
        "  - Common in both sets\n",
        "  - here `1` is common in both `A` and `B`\n",
        "\n",
        "- ***Union***\n",
        "  - <img src=\"https://d2beiqkhq929f0.cloudfront.net/public_assets/assets/000/015/047/original/Screenshot_2022-09-21_at_1.11.27_PM.png?1663746097\">\n",
        "  - Set of both the elements `A` and `B`\n",
        "  - here it is `{1,2,3,4,5}`\n",
        "\n",
        "- ***Difference***\n",
        "  - <img src=\"https://d2beiqkhq929f0.cloudfront.net/public_assets/assets/000/015/050/original/Screenshot_2022-09-21_at_1.13.50_PM.png?1663746286\">\n",
        "  - `A - B`\n",
        "    - Set of all elements that are in `A` but not in `B`\n",
        "    - that is `{2}` here\n",
        "  - `B - A`\n",
        "    - Set of all elements that are in `B` but not in `A`\n",
        "    - that is `{3,4,5}` here\n",
        "  - `A-B` != `B - A`\n",
        "\n",
        "- ***Symmetric Difference***\n",
        "  - <img src=\"https://d2beiqkhq929f0.cloudfront.net/public_assets/assets/000/015/051/original/Screenshot_2022-09-21_at_1.14.09_PM.png?1663746327\">\n",
        "  - `(A - B) Union (B - A)` or `(A U B) - (A Λ B)`\n",
        "  - that is `{2,3,4,5}` here"
      ],
      "metadata": {
        "id": "7iGeE-hxzqv-"
      }
    },
    {
      "cell_type": "code",
      "source": [
        "s1 = {1,2}\n",
        "s2 = {1,3,4,5}"
      ],
      "metadata": {
        "id": "SDeItd0dA6m4"
      },
      "execution_count": null,
      "outputs": []
    },
    {
      "cell_type": "code",
      "source": [
        "# Union\n",
        "s1 | s2"
      ],
      "metadata": {
        "colab": {
          "base_uri": "https://localhost:8080/"
        },
        "id": "uNJhEE3DBADE",
        "outputId": "f964c610-afdf-48a0-9ffe-079fb4645ce2"
      },
      "execution_count": null,
      "outputs": [
        {
          "output_type": "execute_result",
          "data": {
            "text/plain": [
              "{1, 2, 3, 4, 5}"
            ]
          },
          "metadata": {},
          "execution_count": 61
        }
      ]
    },
    {
      "cell_type": "code",
      "source": [
        "# intersection\n",
        "s1.intersection(s2)"
      ],
      "metadata": {
        "colab": {
          "base_uri": "https://localhost:8080/"
        },
        "id": "yUjCwsjqBKqw",
        "outputId": "22e65035-77e6-48e7-8cf2-02ef41e4d333"
      },
      "execution_count": null,
      "outputs": [
        {
          "output_type": "execute_result",
          "data": {
            "text/plain": [
              "{1}"
            ]
          },
          "metadata": {},
          "execution_count": 62
        }
      ]
    },
    {
      "cell_type": "code",
      "source": [
        "s1 & s2"
      ],
      "metadata": {
        "colab": {
          "base_uri": "https://localhost:8080/"
        },
        "id": "wpJ_fwJWBSXe",
        "outputId": "f957a698-4c66-4073-c083-be95504b7004"
      },
      "execution_count": null,
      "outputs": [
        {
          "output_type": "execute_result",
          "data": {
            "text/plain": [
              "{1}"
            ]
          },
          "metadata": {},
          "execution_count": 63
        }
      ]
    },
    {
      "cell_type": "code",
      "source": [
        "# difference\n",
        "s1.difference(s2)"
      ],
      "metadata": {
        "colab": {
          "base_uri": "https://localhost:8080/"
        },
        "id": "ivrFTSFWBV01",
        "outputId": "5110c2dc-dbe7-454a-c17e-36091b6127b3"
      },
      "execution_count": null,
      "outputs": [
        {
          "output_type": "execute_result",
          "data": {
            "text/plain": [
              "{2}"
            ]
          },
          "metadata": {},
          "execution_count": 65
        }
      ]
    },
    {
      "cell_type": "code",
      "source": [
        "s1 - s2"
      ],
      "metadata": {
        "colab": {
          "base_uri": "https://localhost:8080/"
        },
        "id": "MJwBDdm_BZ_x",
        "outputId": "8238e587-33d9-4506-9a4d-de8ee6eb4d10"
      },
      "execution_count": null,
      "outputs": [
        {
          "output_type": "execute_result",
          "data": {
            "text/plain": [
              "{2}"
            ]
          },
          "metadata": {},
          "execution_count": 66
        }
      ]
    },
    {
      "cell_type": "code",
      "source": [
        "# symmetric difference\n",
        "s1.symmetric_difference(s2)"
      ],
      "metadata": {
        "colab": {
          "base_uri": "https://localhost:8080/"
        },
        "id": "1BR9cteUBeAz",
        "outputId": "afecfe24-76a0-4b6b-b18e-041a335ee3c8"
      },
      "execution_count": null,
      "outputs": [
        {
          "output_type": "execute_result",
          "data": {
            "text/plain": [
              "{2, 3, 4, 5}"
            ]
          },
          "metadata": {},
          "execution_count": 67
        }
      ]
    },
    {
      "cell_type": "code",
      "source": [
        "s1 ^ s2"
      ],
      "metadata": {
        "colab": {
          "base_uri": "https://localhost:8080/"
        },
        "id": "gQJhlvGeBjez",
        "outputId": "4f959500-c1cb-4bb0-e1eb-af5bde3c7d54"
      },
      "execution_count": null,
      "outputs": [
        {
          "output_type": "execute_result",
          "data": {
            "text/plain": [
              "{2, 3, 4, 5}"
            ]
          },
          "metadata": {},
          "execution_count": 68
        }
      ]
    },
    {
      "cell_type": "code",
      "source": [
        "# sets can only contain immutable data structures\n",
        "wonderset = {1, 4.5, \"string\", True, (1,2,3)}\n",
        "wonderset"
      ],
      "metadata": {
        "colab": {
          "base_uri": "https://localhost:8080/"
        },
        "id": "Du6opWbUFJUn",
        "outputId": "1895618a-93e9-4c1c-99d2-8c7736b6eebf"
      },
      "execution_count": null,
      "outputs": [
        {
          "output_type": "execute_result",
          "data": {
            "text/plain": [
              "{(1, 2, 3), 1, 4.5, 'string'}"
            ]
          },
          "metadata": {},
          "execution_count": 69
        }
      ]
    },
    {
      "cell_type": "markdown",
      "source": [
        "### List's other functions"
      ],
      "metadata": {
        "id": "ZZ_bqn9Or1ya"
      }
    },
    {
      "cell_type": "code",
      "source": [
        "a = [1,2,3,4,5]\n",
        "print(id(a))"
      ],
      "metadata": {
        "id": "tX7GJAO5roCX",
        "colab": {
          "base_uri": "https://localhost:8080/"
        },
        "outputId": "4def6010-7e02-49aa-a92c-73d2877608b1"
      },
      "execution_count": null,
      "outputs": [
        {
          "output_type": "stream",
          "name": "stdout",
          "text": [
            "139965256388928\n"
          ]
        }
      ]
    },
    {
      "cell_type": "code",
      "source": [
        "a.append(6) # insert element at last of list"
      ],
      "metadata": {
        "colab": {
          "base_uri": "https://localhost:8080/"
        },
        "id": "GNFOJZL-r6MM",
        "outputId": "770f548f-6aef-4dd1-ca95-ac1bb3391713"
      },
      "execution_count": null,
      "outputs": [
        {
          "output_type": "execute_result",
          "data": {
            "text/plain": [
              "[1, 2, 3, 4, 5, 6]"
            ]
          },
          "metadata": {},
          "execution_count": 3
        }
      ]
    },
    {
      "cell_type": "code",
      "source": [
        "id(a)"
      ],
      "metadata": {
        "colab": {
          "base_uri": "https://localhost:8080/"
        },
        "id": "LrsARo5IFUoV",
        "outputId": "4659c59a-fb8e-416e-9b10-86fd3718ba47"
      },
      "execution_count": null,
      "outputs": [
        {
          "output_type": "execute_result",
          "data": {
            "text/plain": [
              "139965256388928"
            ]
          },
          "metadata": {},
          "execution_count": 4
        }
      ]
    },
    {
      "cell_type": "code",
      "source": [
        "a.append([7,8,9]) # append the entire list object at end\n",
        "a"
      ],
      "metadata": {
        "colab": {
          "base_uri": "https://localhost:8080/"
        },
        "id": "eWZ7lAAOsCOg",
        "outputId": "d43f84b7-0bdb-46cc-e544-7013c4deb45d"
      },
      "execution_count": null,
      "outputs": [
        {
          "output_type": "execute_result",
          "data": {
            "text/plain": [
              "[1, 2, 3, 4, 5, 6, [7, 8, 9]]"
            ]
          },
          "metadata": {},
          "execution_count": 5
        }
      ]
    },
    {
      "cell_type": "code",
      "source": [
        "id(a)"
      ],
      "metadata": {
        "colab": {
          "base_uri": "https://localhost:8080/"
        },
        "id": "6HLHZgoaFZ88",
        "outputId": "a7f0818a-15c9-4c44-9f81-e3b05389f9a9"
      },
      "execution_count": null,
      "outputs": [
        {
          "output_type": "execute_result",
          "data": {
            "text/plain": [
              "139965256388928"
            ]
          },
          "metadata": {},
          "execution_count": 6
        }
      ]
    },
    {
      "cell_type": "code",
      "source": [
        "a.extend([10,11,12]) # separatly inserts the element of list to `a` from end\n",
        "a"
      ],
      "metadata": {
        "colab": {
          "base_uri": "https://localhost:8080/"
        },
        "id": "OSma0qScsK2n",
        "outputId": "7c845e31-84dd-4b70-e23d-c3c10bad492d"
      },
      "execution_count": null,
      "outputs": [
        {
          "output_type": "execute_result",
          "data": {
            "text/plain": [
              "[1, 2, 3, 4, 5, 6, [7, 8, 9], 10, 11, 12]"
            ]
          },
          "metadata": {},
          "execution_count": 7
        }
      ]
    },
    {
      "cell_type": "code",
      "source": [
        "id(a)"
      ],
      "metadata": {
        "colab": {
          "base_uri": "https://localhost:8080/"
        },
        "id": "zqit6gtSFcxJ",
        "outputId": "3f8e1640-e1fa-4740-acc2-725bcb8dc75e"
      },
      "execution_count": null,
      "outputs": [
        {
          "output_type": "execute_result",
          "data": {
            "text/plain": [
              "139965256388928"
            ]
          },
          "metadata": {},
          "execution_count": 8
        }
      ]
    },
    {
      "cell_type": "markdown",
      "source": [
        "```python\n",
        "a.pop() # pop using index, by default last\n",
        "a.remove() # remove using value\n",
        "```"
      ],
      "metadata": {
        "id": "RsuWzznTsZ8j"
      }
    },
    {
      "cell_type": "code",
      "source": [
        "a.pop()\n",
        "a"
      ],
      "metadata": {
        "colab": {
          "base_uri": "https://localhost:8080/"
        },
        "id": "uaM48DKPskjL",
        "outputId": "cfd09761-c6ff-4176-e3e6-684971369fa4"
      },
      "execution_count": null,
      "outputs": [
        {
          "output_type": "execute_result",
          "data": {
            "text/plain": [
              "[1, 2, 3, 4, 5, 6, [7, 8, 9], 10, 11]"
            ]
          },
          "metadata": {},
          "execution_count": 127
        }
      ]
    },
    {
      "cell_type": "code",
      "source": [
        "a.pop(1)"
      ],
      "metadata": {
        "colab": {
          "base_uri": "https://localhost:8080/"
        },
        "id": "0rM_NPuqsnQE",
        "outputId": "45ec7ec0-c35b-4f20-d9c6-fd809460897c"
      },
      "execution_count": null,
      "outputs": [
        {
          "output_type": "execute_result",
          "data": {
            "text/plain": [
              "2"
            ]
          },
          "metadata": {},
          "execution_count": 128
        }
      ]
    },
    {
      "cell_type": "code",
      "source": [
        "a"
      ],
      "metadata": {
        "colab": {
          "base_uri": "https://localhost:8080/"
        },
        "id": "PwUeRjV3squN",
        "outputId": "30f2d97d-265e-412d-bc13-6af569bfa6d5"
      },
      "execution_count": null,
      "outputs": [
        {
          "output_type": "execute_result",
          "data": {
            "text/plain": [
              "[1, 3, 4, 5, 6, [7, 8, 9], 10, 11]"
            ]
          },
          "metadata": {},
          "execution_count": 129
        }
      ]
    },
    {
      "cell_type": "code",
      "source": [
        "a.remove(4) # value 4 has removed\n",
        "a"
      ],
      "metadata": {
        "colab": {
          "base_uri": "https://localhost:8080/"
        },
        "id": "zAY5dVwhssu3",
        "outputId": "07aefeb6-07ee-4bcd-d4d3-68e8dd032a97"
      },
      "execution_count": null,
      "outputs": [
        {
          "output_type": "execute_result",
          "data": {
            "text/plain": [
              "[1, 3, 5, 6, [7, 8, 9], 10, 11]"
            ]
          },
          "metadata": {},
          "execution_count": 130
        }
      ]
    },
    {
      "cell_type": "code",
      "source": [
        "7 in a # checking whether an element is in list or not"
      ],
      "metadata": {
        "colab": {
          "base_uri": "https://localhost:8080/"
        },
        "id": "Xo-gIBTXs1OW",
        "outputId": "ca296cd4-93e0-448f-c2e8-87b2542bac06"
      },
      "execution_count": null,
      "outputs": [
        {
          "output_type": "execute_result",
          "data": {
            "text/plain": [
              "False"
            ]
          },
          "metadata": {},
          "execution_count": 131
        }
      ]
    },
    {
      "cell_type": "code",
      "source": [
        "[1,2,3].remove(1)"
      ],
      "metadata": {
        "id": "QiEBss2KBznC"
      },
      "execution_count": null,
      "outputs": []
    },
    {
      "cell_type": "markdown",
      "source": [
        "<img src=\"https://d2beiqkhq929f0.cloudfront.net/public_assets/assets/000/015/346/original/Screenshot_2022-09-29_at_2.01.19_PM.png?1664440306\">"
      ],
      "metadata": {
        "id": "6P_gMzWhXMuB"
      }
    },
    {
      "cell_type": "markdown",
      "source": [
        "## List Comprehension and practice"
      ],
      "metadata": {
        "id": "isHiuvO_cXzN"
      }
    },
    {
      "cell_type": "markdown",
      "source": [
        "# List Comprehension\n",
        "> ***Task: given a list, create another list that contains the squared element of the given list***\n"
      ],
      "metadata": {
        "id": "gqN6_EtIc00C"
      }
    },
    {
      "cell_type": "code",
      "source": [
        "# iterative method\n",
        "a = [1,2,3,4,5]\n",
        "ans = []\n",
        "for i in a:\n",
        "  ans.append(i**2)\n",
        "\n",
        "ans"
      ],
      "metadata": {
        "colab": {
          "base_uri": "https://localhost:8080/"
        },
        "id": "VvR2lkTjXGQ7",
        "outputId": "3c308181-0661-4941-f608-56e1b4b0c357"
      },
      "execution_count": null,
      "outputs": [
        {
          "output_type": "execute_result",
          "data": {
            "text/plain": [
              "[1, 4, 9, 16, 25]"
            ]
          },
          "metadata": {},
          "execution_count": 1
        }
      ]
    },
    {
      "cell_type": "markdown",
      "source": [
        "###Converting **iterative** approach to **list comprehension** approach\n",
        "<img src=\"https://d2beiqkhq929f0.cloudfront.net/public_assets/assets/000/015/152/original/Screenshot_2022-09-25_at_2.22.49_PM.png?1664095987\">"
      ],
      "metadata": {
        "id": "BcuoEfnsc4gP"
      }
    },
    {
      "cell_type": "code",
      "source": [
        "ans = [i**2 for i in a]\n",
        "ans"
      ],
      "metadata": {
        "colab": {
          "base_uri": "https://localhost:8080/"
        },
        "id": "5zmBZdnQc2Rw",
        "outputId": "f24f503a-0a9e-4879-f70b-b912b9e59cb0"
      },
      "execution_count": null,
      "outputs": [
        {
          "output_type": "execute_result",
          "data": {
            "text/plain": [
              "[1, 4, 9, 16, 25]"
            ]
          },
          "metadata": {},
          "execution_count": 2
        }
      ]
    },
    {
      "cell_type": "markdown",
      "source": [
        "> ***Task 2: given a list, create another list whose elements satisfy the following condition***\n",
        "```\n",
        "i**2 if i is odd\n",
        "i if i is even\n",
        "```\n",
        "where `i` is the element of given list\n"
      ],
      "metadata": {
        "id": "pmtkQjeYc8Ii"
      }
    },
    {
      "cell_type": "code",
      "source": [
        "# iterative approach\n",
        "def my_logic(i):\n",
        "  if i %2 == 0:\n",
        "    return i\n",
        "  else:\n",
        "    return i**2"
      ],
      "metadata": {
        "id": "PQA5Hf0Xc6cI"
      },
      "execution_count": null,
      "outputs": []
    },
    {
      "cell_type": "code",
      "source": [
        "a = [1,2,3,4,5,6,7,8,9,10]\n",
        "ans = []\n",
        "for i in a:\n",
        "  ans.append(my_logic(i))\n",
        "ans"
      ],
      "metadata": {
        "colab": {
          "base_uri": "https://localhost:8080/"
        },
        "id": "TkOrM16xc_-5",
        "outputId": "8edfa0fb-3621-4d77-c0a9-cafbe2a93ee6"
      },
      "execution_count": null,
      "outputs": [
        {
          "output_type": "execute_result",
          "data": {
            "text/plain": [
              "[1, 2, 9, 4, 25, 6, 49, 8, 81, 10]"
            ]
          },
          "metadata": {},
          "execution_count": 4
        }
      ]
    },
    {
      "cell_type": "code",
      "source": [
        "# list comprehension approach\n",
        "ans = [my_logic(i) for i in a]\n",
        "\n",
        "print(ans)"
      ],
      "metadata": {
        "colab": {
          "base_uri": "https://localhost:8080/"
        },
        "id": "EjC2ekJmc-dt",
        "outputId": "d95819c1-6365-4f17-8a4a-01b28db5d5ff"
      },
      "execution_count": null,
      "outputs": [
        {
          "output_type": "stream",
          "name": "stdout",
          "text": [
            "[1, 2, 9, 4, 25, 6, 49, 8, 81, 10]\n"
          ]
        }
      ]
    },
    {
      "cell_type": "code",
      "source": [
        "#  conditional output in comphrension\n",
        "ans = [i if i%2==0 else i**2 for i in a]\n",
        "\n",
        "print(ans)"
      ],
      "metadata": {
        "colab": {
          "base_uri": "https://localhost:8080/"
        },
        "id": "gWldNvuhFYz_",
        "outputId": "464b51de-246c-4238-f9d1-ba28a5dc7b87"
      },
      "execution_count": null,
      "outputs": [
        {
          "output_type": "stream",
          "name": "stdout",
          "text": [
            "[1, 2, 9, 4, 25, 6, 49, 8, 81, 10]\n"
          ]
        }
      ]
    },
    {
      "cell_type": "code",
      "source": [
        "# filter in comprehension\n",
        "ans = [i for i in a  if i%2==0 ]\n",
        "ans"
      ],
      "metadata": {
        "colab": {
          "base_uri": "https://localhost:8080/"
        },
        "id": "99xsqhcTFz7v",
        "outputId": "e7eb89d8-4105-4409-ce87-0b49cd6ff3d2"
      },
      "execution_count": null,
      "outputs": [
        {
          "output_type": "execute_result",
          "data": {
            "text/plain": [
              "[2, 4, 6, 8, 10]"
            ]
          },
          "metadata": {},
          "execution_count": 11
        }
      ]
    },
    {
      "cell_type": "markdown",
      "source": [
        "#### Nested List comprehension\n",
        "<img src=\"https://d2beiqkhq929f0.cloudfront.net/public_assets/assets/000/015/153/original/Screenshot_2022-09-25_at_2.46.09_PM.png?1664097367\">"
      ],
      "metadata": {
        "id": "yntcEJp0dDHb"
      }
    },
    {
      "cell_type": "code",
      "source": [
        "# nested list comprehension\n",
        "random = [i+j for j in range(1,11) for i in range(1,11)]\n",
        "\n",
        "print(random)"
      ],
      "metadata": {
        "colab": {
          "base_uri": "https://localhost:8080/"
        },
        "id": "BAp7Sy40dBlv",
        "outputId": "289d98fb-3263-4cba-ae38-a08e63fe2cba"
      },
      "execution_count": null,
      "outputs": [
        {
          "output_type": "stream",
          "name": "stdout",
          "text": [
            "[2, 3, 4, 5, 6, 7, 8, 9, 10, 11, 3, 4, 5, 6, 7, 8, 9, 10, 11, 12, 4, 5, 6, 7, 8, 9, 10, 11, 12, 13, 5, 6, 7, 8, 9, 10, 11, 12, 13, 14, 6, 7, 8, 9, 10, 11, 12, 13, 14, 15, 7, 8, 9, 10, 11, 12, 13, 14, 15, 16, 8, 9, 10, 11, 12, 13, 14, 15, 16, 17, 9, 10, 11, 12, 13, 14, 15, 16, 17, 18, 10, 11, 12, 13, 14, 15, 16, 17, 18, 19, 11, 12, 13, 14, 15, 16, 17, 18, 19, 20]\n"
          ]
        }
      ]
    },
    {
      "cell_type": "code",
      "source": [
        "random_order = [str(i)+(j) for i in [1,2,3] for j in ['a', 'b', 'c']]\n",
        "\n",
        "print(random_order)"
      ],
      "metadata": {
        "colab": {
          "base_uri": "https://localhost:8080/"
        },
        "id": "xChlKmjqdE0I",
        "outputId": "b0d17b4a-ba7a-45f5-f457-1d643d546282"
      },
      "execution_count": null,
      "outputs": [
        {
          "output_type": "stream",
          "name": "stdout",
          "text": [
            "['a1', 'b1', 'c1', 'a2', 'b2', 'c2', 'a3', 'b3', 'c3']\n"
          ]
        }
      ]
    },
    {
      "cell_type": "code",
      "source": [
        "# converting nested list comprehension to iteration\n",
        "order = []\n",
        "for i in [\"a\", \"b\", \"c\"]:\n",
        "  for j in [1, 2, 3]:\n",
        "    order.append(i+str(j))\n",
        "\n",
        "print(order)"
      ],
      "metadata": {
        "colab": {
          "base_uri": "https://localhost:8080/"
        },
        "id": "WZaJK0tGdGec",
        "outputId": "b4384cb6-da7d-4abc-a015-d244c076f327"
      },
      "execution_count": null,
      "outputs": [
        {
          "output_type": "stream",
          "name": "stdout",
          "text": [
            "['a1', 'a2', 'a3', 'b1', 'b2', 'b3', 'c1', 'c2', 'c3']\n"
          ]
        }
      ]
    },
    {
      "cell_type": "markdown",
      "source": [
        "> Anything that can be done with `list comprehension` can be done with other data-structures too"
      ],
      "metadata": {
        "id": "SzhlwzTTdJi6"
      }
    },
    {
      "cell_type": "code",
      "source": [
        "# set comprehension\n",
        "s = {i**2 for i in range(1,11)}\n",
        "s"
      ],
      "metadata": {
        "colab": {
          "base_uri": "https://localhost:8080/"
        },
        "id": "_Ac3TkhcdHtq",
        "outputId": "df63c057-4c60-46ac-d3d7-200de346d873"
      },
      "execution_count": null,
      "outputs": [
        {
          "output_type": "execute_result",
          "data": {
            "text/plain": [
              "{1, 4, 9, 16, 25, 36, 49, 64, 81, 100}"
            ]
          },
          "metadata": {},
          "execution_count": 9
        }
      ]
    },
    {
      "cell_type": "code",
      "source": [
        "# note: set can only store data-sturctures that are immutable\n",
        "# but sets are mutable itself\n",
        "#hence no nested set comprehension\n",
        "\n",
        "s = {{j for j in range(10)} for i in range(10)}"
      ],
      "metadata": {
        "colab": {
          "base_uri": "https://localhost:8080/",
          "height": 294
        },
        "id": "KWIzVUJ2dLFU",
        "outputId": "bf4eac1e-4a3c-4655-8f3f-a87302f3e9ca"
      },
      "execution_count": null,
      "outputs": [
        {
          "output_type": "error",
          "ename": "TypeError",
          "evalue": "ignored",
          "traceback": [
            "\u001b[0;31m---------------------------------------------------------------------------\u001b[0m",
            "\u001b[0;31mTypeError\u001b[0m                                 Traceback (most recent call last)",
            "\u001b[0;32m<ipython-input-10-b7aa2d41c892>\u001b[0m in \u001b[0;36m<module>\u001b[0;34m\u001b[0m\n\u001b[1;32m      3\u001b[0m \u001b[0;31m#hence no nested set comprehension\u001b[0m\u001b[0;34m\u001b[0m\u001b[0;34m\u001b[0m\u001b[0;34m\u001b[0m\u001b[0m\n\u001b[1;32m      4\u001b[0m \u001b[0;34m\u001b[0m\u001b[0m\n\u001b[0;32m----> 5\u001b[0;31m \u001b[0ms\u001b[0m \u001b[0;34m=\u001b[0m \u001b[0;34m{\u001b[0m\u001b[0;34m{\u001b[0m\u001b[0mj\u001b[0m \u001b[0;32mfor\u001b[0m \u001b[0mj\u001b[0m \u001b[0;32min\u001b[0m \u001b[0mrange\u001b[0m\u001b[0;34m(\u001b[0m\u001b[0;36m10\u001b[0m\u001b[0;34m)\u001b[0m\u001b[0;34m}\u001b[0m \u001b[0;32mfor\u001b[0m \u001b[0mi\u001b[0m \u001b[0;32min\u001b[0m \u001b[0mrange\u001b[0m\u001b[0;34m(\u001b[0m\u001b[0;36m10\u001b[0m\u001b[0;34m)\u001b[0m\u001b[0;34m}\u001b[0m\u001b[0;34m\u001b[0m\u001b[0;34m\u001b[0m\u001b[0m\n\u001b[0m",
            "\u001b[0;32m<ipython-input-10-b7aa2d41c892>\u001b[0m in \u001b[0;36m<setcomp>\u001b[0;34m(.0)\u001b[0m\n\u001b[1;32m      3\u001b[0m \u001b[0;31m#hence no nested set comprehension\u001b[0m\u001b[0;34m\u001b[0m\u001b[0;34m\u001b[0m\u001b[0;34m\u001b[0m\u001b[0m\n\u001b[1;32m      4\u001b[0m \u001b[0;34m\u001b[0m\u001b[0m\n\u001b[0;32m----> 5\u001b[0;31m \u001b[0ms\u001b[0m \u001b[0;34m=\u001b[0m \u001b[0;34m{\u001b[0m\u001b[0;34m{\u001b[0m\u001b[0mj\u001b[0m \u001b[0;32mfor\u001b[0m \u001b[0mj\u001b[0m \u001b[0;32min\u001b[0m \u001b[0mrange\u001b[0m\u001b[0;34m(\u001b[0m\u001b[0;36m10\u001b[0m\u001b[0;34m)\u001b[0m\u001b[0;34m}\u001b[0m \u001b[0;32mfor\u001b[0m \u001b[0mi\u001b[0m \u001b[0;32min\u001b[0m \u001b[0mrange\u001b[0m\u001b[0;34m(\u001b[0m\u001b[0;36m10\u001b[0m\u001b[0;34m)\u001b[0m\u001b[0;34m}\u001b[0m\u001b[0;34m\u001b[0m\u001b[0;34m\u001b[0m\u001b[0m\n\u001b[0m",
            "\u001b[0;31mTypeError\u001b[0m: unhashable type: 'set'"
          ]
        }
      ]
    },
    {
      "cell_type": "code",
      "source": [
        "# dictionary comprehension\n",
        "d = {i:i**2 for i in range(11)}\n",
        "d"
      ],
      "metadata": {
        "colab": {
          "base_uri": "https://localhost:8080/"
        },
        "id": "OWeoj8ZLdMTE",
        "outputId": "5bf26f4d-ca11-46b6-ee86-9e8de6a2e68b"
      },
      "execution_count": null,
      "outputs": [
        {
          "output_type": "execute_result",
          "data": {
            "text/plain": [
              "{0: 0, 1: 1, 2: 4, 3: 9, 4: 16, 5: 25, 6: 36, 7: 49, 8: 64, 9: 81, 10: 100}"
            ]
          },
          "metadata": {},
          "execution_count": 11
        }
      ]
    },
    {
      "cell_type": "markdown",
      "source": [
        "> ***Note***: when doing `tuple` comprehension, output will be a generator object so have to convert that generator object into `tuple` explicitily"
      ],
      "metadata": {
        "id": "X-PH3fwidPZo"
      }
    },
    {
      "cell_type": "code",
      "source": [
        "t = (i for i in range(6))\n",
        "t"
      ],
      "metadata": {
        "colab": {
          "base_uri": "https://localhost:8080/"
        },
        "id": "9DFEL9ItdN3H",
        "outputId": "4d08562a-700c-4236-fd08-32036b9bfb18"
      },
      "execution_count": null,
      "outputs": [
        {
          "output_type": "execute_result",
          "data": {
            "text/plain": [
              "<generator object <genexpr> at 0x7fb080787a50>"
            ]
          },
          "metadata": {},
          "execution_count": 12
        }
      ]
    },
    {
      "cell_type": "code",
      "source": [
        "tuple(t)"
      ],
      "metadata": {
        "colab": {
          "base_uri": "https://localhost:8080/"
        },
        "id": "h54MpNqRdQ2x",
        "outputId": "4a713ea8-9307-4d7b-bebb-d59e6c0a7cda"
      },
      "execution_count": null,
      "outputs": [
        {
          "output_type": "execute_result",
          "data": {
            "text/plain": [
              "(0, 1, 2, 3, 4, 5)"
            ]
          },
          "metadata": {},
          "execution_count": 13
        }
      ]
    },
    {
      "cell_type": "markdown",
      "source": [
        "# Strings"
      ],
      "metadata": {
        "id": "9lxbwBBvdWJZ"
      }
    },
    {
      "cell_type": "code",
      "source": [
        "# creating strings using single and double and triple quotes\n",
        "s1 = \"This is a string\"\n",
        "s2 = 'this is a string'\n",
        "s3 = '''this is a string'''"
      ],
      "metadata": {
        "id": "s8JK6EiodSMv"
      },
      "execution_count": null,
      "outputs": []
    },
    {
      "cell_type": "markdown",
      "source": [
        "string made with `''' '''` quotes are special because in them the **white spaces** are preserved"
      ],
      "metadata": {
        "id": "Q1yCF3lEdYyr"
      }
    },
    {
      "cell_type": "code",
      "source": [
        "s3 = '''\n",
        "This is a stirng\n",
        "\n",
        "where           white spaces are\n",
        "\n",
        "      preserved !!!\n",
        "'''\n",
        "\n",
        "print(s3)"
      ],
      "metadata": {
        "colab": {
          "base_uri": "https://localhost:8080/"
        },
        "id": "PHsLbfX-dXSW",
        "outputId": "8b982f69-4ce3-4b61-b7b4-4c5a96aa0bd0"
      },
      "execution_count": null,
      "outputs": [
        {
          "output_type": "stream",
          "name": "stdout",
          "text": [
            "\n",
            "This is a stirng \n",
            "\n",
            "where           white spaces are \n",
            "\n",
            "      preserved !!!\n",
            "\n"
          ]
        }
      ]
    },
    {
      "cell_type": "code",
      "source": [
        "s = \"python\""
      ],
      "metadata": {
        "id": "BURWLo7edaB1"
      },
      "execution_count": null,
      "outputs": []
    },
    {
      "cell_type": "code",
      "source": [
        "# getting index of character\n",
        "s.index('t')"
      ],
      "metadata": {
        "colab": {
          "base_uri": "https://localhost:8080/"
        },
        "id": "OVpoIuzhdbkF",
        "outputId": "5d7466f8-a2b9-4c9b-bbc6-f115d7e9f535"
      },
      "execution_count": null,
      "outputs": [
        {
          "output_type": "execute_result",
          "data": {
            "text/plain": [
              "2"
            ]
          },
          "metadata": {},
          "execution_count": 17
        }
      ]
    },
    {
      "cell_type": "code",
      "source": [
        "# indexable\n",
        "s[1]"
      ],
      "metadata": {
        "colab": {
          "base_uri": "https://localhost:8080/",
          "height": 35
        },
        "id": "a1OTdKt9dczu",
        "outputId": "0d9d9052-771a-4069-8c8b-1e7f948a3289"
      },
      "execution_count": null,
      "outputs": [
        {
          "output_type": "execute_result",
          "data": {
            "text/plain": [
              "'y'"
            ],
            "application/vnd.google.colaboratory.intrinsic+json": {
              "type": "string"
            }
          },
          "metadata": {},
          "execution_count": 18
        }
      ]
    },
    {
      "cell_type": "code",
      "source": [
        "# sliceable\n",
        "s[2:]"
      ],
      "metadata": {
        "colab": {
          "base_uri": "https://localhost:8080/",
          "height": 35
        },
        "id": "CfRPDaiedd3r",
        "outputId": "cbaaa659-1980-4522-aff4-455b782f17ec"
      },
      "execution_count": null,
      "outputs": [
        {
          "output_type": "execute_result",
          "data": {
            "text/plain": [
              "'thon'"
            ],
            "application/vnd.google.colaboratory.intrinsic+json": {
              "type": "string"
            }
          },
          "metadata": {},
          "execution_count": 20
        }
      ]
    },
    {
      "cell_type": "code",
      "source": [
        "# support negative indexing\n",
        "s[-1]"
      ],
      "metadata": {
        "colab": {
          "base_uri": "https://localhost:8080/",
          "height": 35
        },
        "id": "e5D38oUPde8q",
        "outputId": "71bda87b-eacd-44e0-c466-0c162c6b4cfe"
      },
      "execution_count": null,
      "outputs": [
        {
          "output_type": "execute_result",
          "data": {
            "text/plain": [
              "'n'"
            ],
            "application/vnd.google.colaboratory.intrinsic+json": {
              "type": "string"
            }
          },
          "metadata": {},
          "execution_count": 21
        }
      ]
    },
    {
      "cell_type": "code",
      "source": [
        "# immutable in nature\n",
        "s[0] = \"E\""
      ],
      "metadata": {
        "colab": {
          "base_uri": "https://localhost:8080/",
          "height": 187
        },
        "id": "M3s7Fauudi9U",
        "outputId": "069d76b2-b303-40fa-8aa0-e0910d123e03"
      },
      "execution_count": null,
      "outputs": [
        {
          "output_type": "error",
          "ename": "TypeError",
          "evalue": "ignored",
          "traceback": [
            "\u001b[0;31m---------------------------------------------------------------------------\u001b[0m",
            "\u001b[0;31mTypeError\u001b[0m                                 Traceback (most recent call last)",
            "\u001b[0;32m<ipython-input-22-1563505990c9>\u001b[0m in \u001b[0;36m<module>\u001b[0;34m\u001b[0m\n\u001b[1;32m      1\u001b[0m \u001b[0;31m# immutable in nature\u001b[0m\u001b[0;34m\u001b[0m\u001b[0;34m\u001b[0m\u001b[0;34m\u001b[0m\u001b[0m\n\u001b[0;32m----> 2\u001b[0;31m \u001b[0ms\u001b[0m\u001b[0;34m[\u001b[0m\u001b[0;36m0\u001b[0m\u001b[0;34m]\u001b[0m \u001b[0;34m=\u001b[0m \u001b[0;34m\"E\"\u001b[0m\u001b[0;34m\u001b[0m\u001b[0;34m\u001b[0m\u001b[0m\n\u001b[0m",
            "\u001b[0;31mTypeError\u001b[0m: 'str' object does not support item assignment"
          ]
        }
      ]
    },
    {
      "cell_type": "code",
      "source": [
        "s = \"this IS A wEIrD StRinG with AJEEb sTUfF\"\n",
        "s"
      ],
      "metadata": {
        "colab": {
          "base_uri": "https://localhost:8080/",
          "height": 35
        },
        "id": "ZkmqEwNSdj-n",
        "outputId": "d5c1e259-5040-4761-a783-59828015de74"
      },
      "execution_count": null,
      "outputs": [
        {
          "output_type": "execute_result",
          "data": {
            "text/plain": [
              "'this IS A wEIrD StRinG with AJEEb sTUfF'"
            ],
            "application/vnd.google.colaboratory.intrinsic+json": {
              "type": "string"
            }
          },
          "metadata": {},
          "execution_count": 23
        }
      ]
    },
    {
      "cell_type": "code",
      "source": [
        "# uppercasing\n",
        "s.upper()"
      ],
      "metadata": {
        "colab": {
          "base_uri": "https://localhost:8080/",
          "height": 35
        },
        "id": "nzau4FlXdlbe",
        "outputId": "c1a8554e-e7e6-4b23-950a-5efbaafa0e56"
      },
      "execution_count": null,
      "outputs": [
        {
          "output_type": "execute_result",
          "data": {
            "text/plain": [
              "'THIS IS A WEIRD STRING WITH AJEEB STUFF'"
            ],
            "application/vnd.google.colaboratory.intrinsic+json": {
              "type": "string"
            }
          },
          "metadata": {},
          "execution_count": 24
        }
      ]
    },
    {
      "cell_type": "code",
      "source": [
        "# lowercasing\n",
        "s.lower()"
      ],
      "metadata": {
        "colab": {
          "base_uri": "https://localhost:8080/",
          "height": 35
        },
        "id": "Jqgtpbl-dmmL",
        "outputId": "71343365-64b2-44c1-f37d-27d80d41a244"
      },
      "execution_count": null,
      "outputs": [
        {
          "output_type": "execute_result",
          "data": {
            "text/plain": [
              "'this is a weird string with ajeeb stuff'"
            ],
            "application/vnd.google.colaboratory.intrinsic+json": {
              "type": "string"
            }
          },
          "metadata": {},
          "execution_count": 25
        }
      ]
    },
    {
      "cell_type": "code",
      "source": [
        "# making the first character of each word capital\n",
        "s.title()"
      ],
      "metadata": {
        "colab": {
          "base_uri": "https://localhost:8080/",
          "height": 35
        },
        "id": "VUkBJ5pgdnrO",
        "outputId": "ba057ae0-ca69-4c8f-db5e-442d26b79d20"
      },
      "execution_count": null,
      "outputs": [
        {
          "output_type": "execute_result",
          "data": {
            "text/plain": [
              "'This Is A Weird String With Ajeeb Stuff'"
            ],
            "application/vnd.google.colaboratory.intrinsic+json": {
              "type": "string"
            }
          },
          "metadata": {},
          "execution_count": 26
        }
      ]
    },
    {
      "cell_type": "markdown",
      "source": [
        "### Some special string functions"
      ],
      "metadata": {
        "id": "sjlp3RwJdqi3"
      }
    },
    {
      "cell_type": "code",
      "source": [
        "# checking whether a string starts with a particular string or not\n",
        "s.startswith(\"THE\")"
      ],
      "metadata": {
        "colab": {
          "base_uri": "https://localhost:8080/"
        },
        "id": "IaV7-gpido9M",
        "outputId": "dfa18ff9-7e6f-4821-b346-c2f8fe2bc1da"
      },
      "execution_count": null,
      "outputs": [
        {
          "output_type": "execute_result",
          "data": {
            "text/plain": [
              "False"
            ]
          },
          "metadata": {},
          "execution_count": 27
        }
      ]
    },
    {
      "cell_type": "code",
      "source": [
        "# checking for a valid URL\n",
        "url = \"HTTP://sopmetjong.com\"\n",
        "url.lower().startswith(\"http\")"
      ],
      "metadata": {
        "colab": {
          "base_uri": "https://localhost:8080/"
        },
        "id": "I1edNi36dr3J",
        "outputId": "146dfd35-54c7-4e49-f035-5f26e259ad89"
      },
      "execution_count": null,
      "outputs": [
        {
          "output_type": "execute_result",
          "data": {
            "text/plain": [
              "True"
            ]
          },
          "metadata": {},
          "execution_count": 28
        }
      ]
    },
    {
      "cell_type": "markdown",
      "source": [
        "> ### ***TASK***\n",
        "Given the following variables, generate a string shown below\n",
        "```python\n",
        "l = 45\n",
        "b = 55\n",
        "a = l*b\n",
        "```\n",
        "generate string like this\n",
        "```\n",
        "\"Length = 45, Breadth = 55, Area = 2475\"\n",
        "```"
      ],
      "metadata": {
        "id": "LSamBC0bduSd"
      }
    },
    {
      "cell_type": "code",
      "source": [
        "l = 45\n",
        "b = 55\n",
        "a = l*b"
      ],
      "metadata": {
        "id": "mOz4mhnEds5U"
      },
      "execution_count": null,
      "outputs": []
    },
    {
      "cell_type": "code",
      "source": [
        "# old way\n",
        "r = \"Length = \" + str(l) + \", Breadth = \" + str(b) + \", Area = \" + str(a)\n",
        "r"
      ],
      "metadata": {
        "colab": {
          "base_uri": "https://localhost:8080/",
          "height": 35
        },
        "id": "EpXUs0PddxYR",
        "outputId": "a0303805-c360-4c80-aa85-81c12b799dd3"
      },
      "execution_count": null,
      "outputs": [
        {
          "output_type": "execute_result",
          "data": {
            "text/plain": [
              "'Length = 45, Breadth = 55, Area = 2475'"
            ],
            "application/vnd.google.colaboratory.intrinsic+json": {
              "type": "string"
            }
          },
          "metadata": {},
          "execution_count": 30
        }
      ]
    },
    {
      "cell_type": "code",
      "source": [
        "# another way\n",
        "r = \"Length = {}, Breadth = {}, Area = {}\".format(l, b, a)\n",
        "r"
      ],
      "metadata": {
        "colab": {
          "base_uri": "https://localhost:8080/",
          "height": 35
        },
        "id": "j_Nt6T6fdyhD",
        "outputId": "e442ca0f-2a3d-4b3b-f9d0-895b454581e3"
      },
      "execution_count": null,
      "outputs": [
        {
          "output_type": "execute_result",
          "data": {
            "text/plain": [
              "'Length = 45, Breadth = 55, Area = 2475'"
            ],
            "application/vnd.google.colaboratory.intrinsic+json": {
              "type": "string"
            }
          },
          "metadata": {},
          "execution_count": 31
        }
      ]
    },
    {
      "cell_type": "code",
      "source": [
        "# using f-strings\n",
        "r = f\"Length = {l}, Breadth = {b}, Area = {a}\"\n",
        "r"
      ],
      "metadata": {
        "colab": {
          "base_uri": "https://localhost:8080/",
          "height": 35
        },
        "id": "rzK_WDsjdz3I",
        "outputId": "b8697c2c-a03b-40e2-9e3d-55fe04df9896"
      },
      "execution_count": null,
      "outputs": [
        {
          "output_type": "execute_result",
          "data": {
            "text/plain": [
              "'Length = 45, Breadth = 55, Area = 2475'"
            ],
            "application/vnd.google.colaboratory.intrinsic+json": {
              "type": "string"
            }
          },
          "metadata": {},
          "execution_count": 32
        }
      ]
    },
    {
      "cell_type": "markdown",
      "source": [
        "#### converting string to list\n",
        "- using `split(delimiter=)` function\n",
        "- as it finds delimiter character in string it'll create a new element for list"
      ],
      "metadata": {
        "id": "B5x4cKzud27n"
      }
    },
    {
      "cell_type": "code",
      "source": [
        "\n",
        "s = \"this is a string which is separated by space\"\n",
        "s.split(\" \")"
      ],
      "metadata": {
        "colab": {
          "base_uri": "https://localhost:8080/"
        },
        "id": "rsM9QeW5d1XN",
        "outputId": "af82f341-2cef-4ba7-d8d1-b9b24fc0cdc6"
      },
      "execution_count": null,
      "outputs": [
        {
          "output_type": "execute_result",
          "data": {
            "text/plain": [
              "['this', 'is', 'a', 'string', 'which', 'is', 'separated', 'by', 'space']"
            ]
          },
          "metadata": {},
          "execution_count": 33
        }
      ]
    },
    {
      "cell_type": "code",
      "source": [
        "# setting delimiter as 'a'\n",
        "s.split('a')"
      ],
      "metadata": {
        "colab": {
          "base_uri": "https://localhost:8080/"
        },
        "id": "xZkORdiEd4ss",
        "outputId": "d7e43d8d-2a88-4d63-e0ab-ef6f8f77ee24"
      },
      "execution_count": null,
      "outputs": [
        {
          "output_type": "execute_result",
          "data": {
            "text/plain": [
              "['this is ', ' string which is sep', 'r', 'ted by sp', 'ce']"
            ]
          },
          "metadata": {},
          "execution_count": 34
        }
      ]
    },
    {
      "cell_type": "markdown",
      "source": [
        "#### Joining list elements into a string\n",
        "- using `.join()` method where it takes delimiter to join the different elements together"
      ],
      "metadata": {
        "id": "pLZC6WgUd7nE"
      }
    },
    {
      "cell_type": "code",
      "source": [
        "a = s.split()\n",
        "a"
      ],
      "metadata": {
        "colab": {
          "base_uri": "https://localhost:8080/"
        },
        "id": "rT1IaVDnd6CN",
        "outputId": "876d0104-6892-4698-94be-b2d4fbe634f2"
      },
      "execution_count": null,
      "outputs": [
        {
          "output_type": "execute_result",
          "data": {
            "text/plain": [
              "['this', 'is', 'a', 'string', 'which', 'is', 'separated', 'by', 'space']"
            ]
          },
          "metadata": {},
          "execution_count": 35
        }
      ]
    },
    {
      "cell_type": "code",
      "source": [
        "\"-\".join(a)"
      ],
      "metadata": {
        "colab": {
          "base_uri": "https://localhost:8080/",
          "height": 35
        },
        "id": "tIyRSweUd9W1",
        "outputId": "6eef3802-f7e9-4d77-b3f1-601132a3c3ee"
      },
      "execution_count": null,
      "outputs": [
        {
          "output_type": "execute_result",
          "data": {
            "text/plain": [
              "'this-is-a-string-which-is-separated-by-space'"
            ],
            "application/vnd.google.colaboratory.intrinsic+json": {
              "type": "string"
            }
          },
          "metadata": {},
          "execution_count": 36
        }
      ]
    },
    {
      "cell_type": "markdown",
      "source": [
        "### Flattening the List\n",
        "- <img src=\"https://d2beiqkhq929f0.cloudfront.net/public_assets/assets/000/015/157/original/Screenshot_2022-09-25_at_7.16.34_PM.png?1664113649\">\n",
        "\n",
        "- <img src=\"https://d2beiqkhq929f0.cloudfront.net/public_assets/assets/000/015/158/original/Screenshot_2022-09-25_at_7.16.45_PM.png?1664113671\">\n",
        "\n",
        "- <img src=\"https://d2beiqkhq929f0.cloudfront.net/public_assets/assets/000/015/159/original/Screenshot_2022-09-25_at_7.16.59_PM.png?1664113698\">\n"
      ],
      "metadata": {
        "id": "PM6Qy0IueBuw"
      }
    },
    {
      "cell_type": "code",
      "source": [
        "a = [1,2,[[3,4]], [5], [[[[6,7],[8,9]]]]]\n",
        "a"
      ],
      "metadata": {
        "colab": {
          "base_uri": "https://localhost:8080/"
        },
        "id": "Rsokc9J6d_DJ",
        "outputId": "e15ccb8b-2cf5-427f-b811-c977233c07df"
      },
      "execution_count": null,
      "outputs": [
        {
          "output_type": "execute_result",
          "data": {
            "text/plain": [
              "[1, 2, [[3, 4]], [5], [[[[6, 7], [8, 9]]]]]"
            ]
          },
          "metadata": {},
          "execution_count": 37
        }
      ]
    },
    {
      "cell_type": "code",
      "source": [
        "def flatten_my_list(li):\n",
        "  result = []\n",
        "  while li:\n",
        "    element = li.pop()\n",
        "    if type(element) == list:\n",
        "      li.extend(element)\n",
        "    else:\n",
        "      result.append(element)\n",
        "  result.sort()\n",
        "  return result"
      ],
      "metadata": {
        "id": "LOv5PYmSeD-a"
      },
      "execution_count": null,
      "outputs": []
    },
    {
      "cell_type": "code",
      "source": [
        "flatten_my_list(a)"
      ],
      "metadata": {
        "colab": {
          "base_uri": "https://localhost:8080/"
        },
        "id": "gUmrLfapeE_Q",
        "outputId": "89244a13-af29-493c-e1c7-e5274e097534"
      },
      "execution_count": null,
      "outputs": [
        {
          "output_type": "execute_result",
          "data": {
            "text/plain": [
              "[1, 2, 3, 4, 5, 6, 7, 8, 9]"
            ]
          },
          "metadata": {},
          "execution_count": 39
        }
      ]
    },
    {
      "cell_type": "markdown",
      "source": [
        "## Python memory\n",
        "\n",
        "Let's have an example of list like show below\n",
        "```\n",
        "b = [[\"\"]*3]*3\n",
        "```\n",
        "Output:\n",
        "```\n",
        "[['', '', ''], ['', '', ''], ['', '', '']]\n",
        "```\n",
        "As can be seen that there are three lists each containing 3 items `''`. The point to be made is that:\n",
        "> All these three lists are same and each one of them are pointing towards a single memory location which belong to `''`\n",
        "\n",
        "<img src=\"https://d2beiqkhq929f0.cloudfront.net/public_assets/assets/000/015/162/original/Screenshot_2022-09-25_at_7.28.30_PM.png?1664114310\">\n"
      ],
      "metadata": {
        "id": "R5uh6YBAeHzj"
      }
    },
    {
      "cell_type": "code",
      "source": [
        "b = [[\"\"]*3]*3\n",
        "b"
      ],
      "metadata": {
        "colab": {
          "base_uri": "https://localhost:8080/"
        },
        "id": "SAlO-sgYeGEN",
        "outputId": "29c2984d-0f4c-4f88-cc60-dcbb41f0f13e"
      },
      "execution_count": null,
      "outputs": [
        {
          "output_type": "execute_result",
          "data": {
            "text/plain": [
              "[['', '', ''], ['', '', ''], ['', '', '']]"
            ]
          },
          "metadata": {},
          "execution_count": 40
        }
      ]
    },
    {
      "cell_type": "code",
      "source": [
        "id(b[0]) == id(b[1]) == id(b[2])"
      ],
      "metadata": {
        "colab": {
          "base_uri": "https://localhost:8080/"
        },
        "id": "jj6DKezaeJ62",
        "outputId": "19ecaa9c-bd2b-4465-fd4b-649d01114424"
      },
      "execution_count": null,
      "outputs": [
        {
          "output_type": "execute_result",
          "data": {
            "text/plain": [
              "True"
            ]
          },
          "metadata": {},
          "execution_count": 41
        }
      ]
    },
    {
      "cell_type": "code",
      "source": [
        "id(b[0][1]) == id(b[1][0]) == id(b[2][1])"
      ],
      "metadata": {
        "colab": {
          "base_uri": "https://localhost:8080/"
        },
        "id": "PpDykytbeLBc",
        "outputId": "1c5f6e68-9bdc-47d7-bc51-0b7ee74d0cac"
      },
      "execution_count": null,
      "outputs": [
        {
          "output_type": "execute_result",
          "data": {
            "text/plain": [
              "True"
            ]
          },
          "metadata": {},
          "execution_count": 42
        }
      ]
    },
    {
      "cell_type": "markdown",
      "source": [
        "Another point:\n",
        "> If any index of those inner lists is changed then whole list will be affected\n",
        "\n",
        "<img src=\"https://d2beiqkhq929f0.cloudfront.net/public_assets/assets/000/015/163/original/Screenshot_2022-09-25_at_7.32.20_PM.png?1664114570\">"
      ],
      "metadata": {
        "id": "FMJmnz_DeOM6"
      }
    },
    {
      "cell_type": "code",
      "source": [
        "b"
      ],
      "metadata": {
        "colab": {
          "base_uri": "https://localhost:8080/"
        },
        "id": "XELSP2KceMS9",
        "outputId": "accfd163-261b-466e-838e-b330cdc6072b"
      },
      "execution_count": null,
      "outputs": [
        {
          "output_type": "execute_result",
          "data": {
            "text/plain": [
              "[['', '', ''], ['', '', ''], ['', '', '']]"
            ]
          },
          "metadata": {},
          "execution_count": 43
        }
      ]
    },
    {
      "cell_type": "code",
      "source": [
        "b[1][0] = 'X'\n",
        "b"
      ],
      "metadata": {
        "colab": {
          "base_uri": "https://localhost:8080/"
        },
        "id": "ETR9bS88eQ_3",
        "outputId": "17828afc-9cca-4d3c-ad54-1fbcbd8e39bb"
      },
      "execution_count": null,
      "outputs": [
        {
          "output_type": "execute_result",
          "data": {
            "text/plain": [
              "[['X', '', ''], ['X', '', ''], ['X', '', '']]"
            ]
          },
          "metadata": {},
          "execution_count": 44
        }
      ]
    }
  ]
}